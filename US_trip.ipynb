{
 "cells": [
  {
   "cell_type": "markdown",
   "metadata": {
    "editable": true
   },
   "source": [
    "# U.S. Trip characteristics\n",
    "\n",
    "\n",
    "The notebook is structured with the follow steps:\n",
    "* 1. Business Understanding\n",
    "* 2. Data Understanding (Exploration)\n",
    "* 3. Data Preparation (ETL process)\n",
    "* 4. Data Quality Validation\n",
    "* 5. Analysis"
   ]
  },
  {
   "cell_type": "markdown",
   "metadata": {
    "editable": true
   },
   "source": [
    "### 1. Business Understanding\n",
    "\n",
    "#### Analytic questions\n",
    "\n",
    "1. Popular visa categories in 2016-02\n",
    "2. The relationship between the trip to US city and the city's temperature in 2016-02\n",
    "3. Population distribution across U.S. cities\n",
    "4. Does the big city match the one with a lot of visitors"
   ]
  },
  {
   "cell_type": "markdown",
   "metadata": {
    "editable": true
   },
   "source": [
    "#### Data \n",
    "\n",
    "- I94 Immigration Data: This data comes from the US National Tourism and Trade Office. The data records each cased admitted to U.S. and a few personal information like gender or age.\n",
    "- World Temperature Data: This dataset is compiled by Berkeley Earth Surface Temperature Study group. It records a average temperature across multiple cities in the world\n",
    "- U.S. City Demographic Data: This data comes from OpenSoft. It includes basic population information of the city in addition to per-race size.\n",
    "- Airport Code Table: The simple airport table is available from datahub.io. It includes basic metdata like name, municipality of airports across the world"
   ]
  },
  {
   "cell_type": "code",
   "execution_count": 1,
   "metadata": {
    "editable": true
   },
   "outputs": [],
   "source": [
    "import pandas as pd"
   ]
  },
  {
   "cell_type": "code",
   "execution_count": 2,
   "metadata": {
    "editable": true
   },
   "outputs": [],
   "source": [
    "pd.set_option('display.max_columns', None)"
   ]
  },
  {
   "cell_type": "code",
   "execution_count": 97,
   "metadata": {
    "editable": true
   },
   "outputs": [],
   "source": [
    "# I94 Immigration data\n",
    "sasdf = pd.read_pickle('trip.pkl')"
   ]
  },
  {
   "cell_type": "code",
   "execution_count": 4,
   "metadata": {
    "editable": true
   },
   "outputs": [],
   "source": [
    "# Airport code table\n",
    "airdf = pd.read_csv('airport-codes.csv')\n",
    "airdf = airdf[airdf['iso_country'] == 'US']"
   ]
  },
  {
   "cell_type": "code",
   "execution_count": null,
   "metadata": {
    "editable": true
   },
   "outputs": [],
   "source": [
    "# Wolrd temperature data\n",
    "tempdf = pd.read_csv('GlobalLandTemperaturesByCity.csv')\n",
    "tempdf = tempdf[tempdf.AverageTemperature.notnull()].reset_index(drop=True)\n",
    "tempdf = tempdf[tempdf['Country'] == 'United States']"
   ]
  },
  {
   "cell_type": "code",
   "execution_count": null,
   "metadata": {
    "editable": true
   },
   "outputs": [],
   "source": [
    "# U.S. city demographic data\n",
    "demdf = pd.read_csv('us-cities-demographics.csv', delimiter=';')"
   ]
  },
  {
   "cell_type": "code",
   "execution_count": null,
   "metadata": {
    "editable": true
   },
   "outputs": [],
   "source": [
    "def parse_field_descrs(filename):\n",
    "    '''\n",
    "    Parse out U.S. visa descriptions\n",
    "    \n",
    "    :param filename: Visa description filepath\n",
    "    :returns a dictionary of I94 data field description and visa/airport codes\n",
    "    '''\n",
    "    \n",
    "    # Parse the field descriptions\n",
    "    import re\n",
    "    with open(filename) as f:\n",
    "        sas_descr = f.read()\n",
    "    pat = re.compile(r'/\\*.+?\\*/', re.DOTALL)\n",
    "    matches = re.findall(pat, sas_descr)\n",
    "    \n",
    "    pat2 = re.compile(r'/\\*\\s+?(.+?)\\s(?:-|is)\\s(.+?)\\s+\\*/', re.DOTALL)\n",
    "    out = dict(re.search(pat2, m).groups() for m in matches)\n",
    "    \n",
    "    # Create visa/airport value mapping dictionary\n",
    "    lookups = {}\n",
    "    lookups['visa'] = {1: 'Business', 2: 'Pleasure', 3: 'Student'}\n",
    "    \n",
    "    lookup_patterns = [\n",
    "        re.compile(f'value.+?{patstr}\\s+(.+?);', re.DOTALL)\n",
    "        for patstr in ['i94prtl', 'i94addrl']]\n",
    "    \n",
    "    for pat3, name in zip(lookup_patterns, ['port', 'state']):\n",
    "        kvstr = re.search(pat3, sas_descr).group(1)\n",
    "        lookups[name] = {}\n",
    "        for l in kvstr.splitlines():\n",
    "            k, v = (v.strip().strip(\"'\").strip() for v in l.split('='))\n",
    "            lookups[name][k] = v\n",
    "        \n",
    "    return out, lookups"
   ]
  },
  {
   "cell_type": "code",
   "execution_count": null,
   "metadata": {
    "editable": true
   },
   "outputs": [],
   "source": [
    "field_dict, lookup_dict = parse_field_descrs('I94_field_description.txt')"
   ]
  },
  {
   "cell_type": "markdown",
   "metadata": {
    "editable": true
   },
   "source": [
    "### 2. Data Understanding\n",
    "Pandas dataframe is used for quick exploration"
   ]
  },
  {
   "cell_type": "code",
   "execution_count": null,
   "metadata": {
    "editable": true
   },
   "outputs": [],
   "source": [
    "import matplotlib.pyplot as plt\n",
    "%matplotlib inline"
   ]
  },
  {
   "cell_type": "markdown",
   "metadata": {
    "editable": true
   },
   "source": [
    "##### Size of each raw dataset and Count of duplicate records"
   ]
  },
  {
   "cell_type": "code",
   "execution_count": null,
   "metadata": {
    "editable": true
   },
   "outputs": [],
   "source": [
    "fact_cols = ['cicid', 'i94yr', 'i94mon', 'i94port', 'i94visa', \n",
    "             'i94bir', 'biryear', 'gender', 'visatype', 'airline', 'fltno']"
   ]
  },
  {
   "cell_type": "code",
   "execution_count": null,
   "metadata": {
    "editable": true
   },
   "outputs": [],
   "source": [
    "dfs = [sasdf[fact_cols], tempdf, airdf, demdf]\n",
    "dfnames = ['trip', 'temperature', 'airport', 'demographics']"
   ]
  },
  {
   "cell_type": "code",
   "execution_count": 18,
   "metadata": {
    "editable": true
   },
   "outputs": [
    {
     "name": "stdout",
     "output_type": "stream",
     "text": [
      "trip table has 2570543 records\n",
      "trip table has 0 duplicate records\n",
      "temperature table has 661524 records\n",
      "temperature table has 0 duplicate records\n",
      "airport table has 22757 records\n",
      "airport table has 0 duplicate records\n",
      "demographics table has 2891 records\n",
      "demographics table has 0 duplicate records\n"
     ]
    }
   ],
   "source": [
    "for df, name in zip(dfs, dfnames):\n",
    "    print(f'{name} table has {len(df)} records')\n",
    "    print(f'{name} table has {df.duplicated().sum()} duplicate records')"
   ]
  },
  {
   "cell_type": "code",
   "execution_count": null,
   "metadata": {
    "editable": true
   },
   "outputs": [],
   "source": []
  },
  {
   "cell_type": "markdown",
   "metadata": {
    "editable": true
   },
   "source": [
    "##### Columns with/without NULL values\n",
    "\n",
    "- airport.iata_code has a lot of null values. These airport records need to be filtered out under the assumption that I94 immigration dataset has used this code for its airport code field\n",
    "- airport.continent has a lot of null values but it won't be important because analytic question is only relevant to U.S. airports.\n",
    "- All the other fields with null value are one of the characteristic columns and its ratio is not big."
   ]
  },
  {
   "cell_type": "code",
   "execution_count": 19,
   "metadata": {
    "editable": true
   },
   "outputs": [
    {
     "name": "stdout",
     "output_type": "stream",
     "text": [
      "Columns without NULL:\n",
      "- trip table: cicid, i94yr, i94mon, i94port, i94visa, visatype\n",
      "- temperature table: dt, AverageTemperature, AverageTemperatureUncertainty, City, Country, Latitude, Longitude\n",
      "- airport table: ident, type, name, iso_country, iso_region, coordinates\n",
      "- demographics table: City, State, Median Age, Total Population, State Code, Race, Count\n"
     ]
    },
    {
     "data": {
      "image/png": "[encoded data removed]",
      "text/plain": [
       "<matplotlib.figure.Figure at 0x7f4a51347160>"
      ]
     },
     "metadata": {
      "needs_background": "light"
     },
     "output_type": "display_data"
    }
   ],
   "source": [
    "_, axes = plt.subplots(2, 2, figsize=(14, 8))\n",
    "print('Columns without NULL:')\n",
    "for df, name, ax in zip(dfs, dfnames, axes.flatten()[::-1]):\n",
    "    null_df = df.isnull().sum() / float(len(df))\n",
    "    print(f'- {name} table: {\", \".join(null_df[null_df == 0].index)}')\n",
    "    \n",
    "    null_df = null_df[null_df != 0]\n",
    "    if len(null_df) > 0:\n",
    "        null_df.plot.barh(ax=ax)\n",
    "    ax.set_title(f'Null ratio of {name} table')"
   ]
  },
  {
   "cell_type": "markdown",
   "metadata": {
    "editable": true
   },
   "source": [
    "#### Raw data samples"
   ]
  },
  {
   "cell_type": "code",
   "execution_count": 99,
   "metadata": {
    "editable": true
   },
   "outputs": [
    {
     "name": "stdout",
     "output_type": "stream",
     "text": [
      "I94 Immigration table\n"
     ]
    },
    {
     "data": {
      "text/html": [
       "<div>\n",
       "<style scoped>\n",
       "    .dataframe tbody tr th:only-of-type {\n",
       "        vertical-align: middle;\n",
       "    }\n",
       "\n",
       "    .dataframe tbody tr th {\n",
       "        vertical-align: top;\n",
       "    }\n",
       "\n",
       "    .dataframe thead th {\n",
       "        text-align: right;\n",
       "    }\n",
       "</style>\n",
       "<table border=\"1\" class=\"dataframe\">\n",
       "  <thead>\n",
       "    <tr style=\"text-align: right;\">\n",
       "      <th></th>\n",
       "      <th>cicid</th>\n",
       "      <th>i94yr</th>\n",
       "      <th>i94mon</th>\n",
       "      <th>i94port</th>\n",
       "      <th>i94visa</th>\n",
       "      <th>i94bir</th>\n",
       "      <th>biryear</th>\n",
       "      <th>gender</th>\n",
       "      <th>visatype</th>\n",
       "      <th>airline</th>\n",
       "      <th>fltno</th>\n",
       "    </tr>\n",
       "  </thead>\n",
       "  <tbody>\n",
       "    <tr>\n",
       "      <th>0</th>\n",
       "      <td>2.0</td>\n",
       "      <td>2016.0</td>\n",
       "      <td>2.0</td>\n",
       "      <td>ATL</td>\n",
       "      <td>3.0</td>\n",
       "      <td>21.0</td>\n",
       "      <td>1995.0</td>\n",
       "      <td>F</td>\n",
       "      <td>F1</td>\n",
       "      <td>DL</td>\n",
       "      <td>241</td>\n",
       "    </tr>\n",
       "    <tr>\n",
       "      <th>1</th>\n",
       "      <td>5.0</td>\n",
       "      <td>2016.0</td>\n",
       "      <td>2.0</td>\n",
       "      <td>CHI</td>\n",
       "      <td>2.0</td>\n",
       "      <td>55.0</td>\n",
       "      <td>1961.0</td>\n",
       "      <td>F</td>\n",
       "      <td>B2</td>\n",
       "      <td>TK</td>\n",
       "      <td>5</td>\n",
       "    </tr>\n",
       "  </tbody>\n",
       "</table>\n",
       "</div>"
      ],
      "text/plain": [
       "   cicid   i94yr  i94mon i94port  i94visa  i94bir  biryear gender visatype  \\\n",
       "0    2.0  2016.0     2.0     ATL      3.0    21.0   1995.0      F       F1   \n",
       "1    5.0  2016.0     2.0     CHI      2.0    55.0   1961.0      F       B2   \n",
       "\n",
       "  airline fltno  \n",
       "0      DL   241  \n",
       "1      TK     5  "
      ]
     },
     "execution_count": 99,
     "metadata": {},
     "output_type": "execute_result"
    }
   ],
   "source": [
    "print('I94 Immigration table')\n",
    "dfs[0].head(2)"
   ]
  },
  {
   "cell_type": "code",
   "execution_count": 19,
   "metadata": {
    "editable": true
   },
   "outputs": [
    {
     "name": "stdout",
     "output_type": "stream",
     "text": [
      "Temperature table\n"
     ]
    },
    {
     "data": {
      "text/html": [
       "<div>\n",
       "<style scoped>\n",
       "    .dataframe tbody tr th:only-of-type {\n",
       "        vertical-align: middle;\n",
       "    }\n",
       "\n",
       "    .dataframe tbody tr th {\n",
       "        vertical-align: top;\n",
       "    }\n",
       "\n",
       "    .dataframe thead th {\n",
       "        text-align: right;\n",
       "    }\n",
       "</style>\n",
       "<table border=\"1\" class=\"dataframe\">\n",
       "  <thead>\n",
       "    <tr style=\"text-align: right;\">\n",
       "      <th></th>\n",
       "      <th>dt</th>\n",
       "      <th>AverageTemperature</th>\n",
       "      <th>AverageTemperatureUncertainty</th>\n",
       "      <th>City</th>\n",
       "      <th>Country</th>\n",
       "      <th>Latitude</th>\n",
       "      <th>Longitude</th>\n",
       "    </tr>\n",
       "  </thead>\n",
       "  <tbody>\n",
       "    <tr>\n",
       "      <th>45983</th>\n",
       "      <td>1820-01-01</td>\n",
       "      <td>2.101</td>\n",
       "      <td>3.217</td>\n",
       "      <td>Abilene</td>\n",
       "      <td>United States</td>\n",
       "      <td>32.95N</td>\n",
       "      <td>100.53W</td>\n",
       "    </tr>\n",
       "    <tr>\n",
       "      <th>45984</th>\n",
       "      <td>1820-02-01</td>\n",
       "      <td>6.926</td>\n",
       "      <td>2.853</td>\n",
       "      <td>Abilene</td>\n",
       "      <td>United States</td>\n",
       "      <td>32.95N</td>\n",
       "      <td>100.53W</td>\n",
       "    </tr>\n",
       "  </tbody>\n",
       "</table>\n",
       "</div>"
      ],
      "text/plain": [
       "               dt  AverageTemperature  AverageTemperatureUncertainty     City  \\\n",
       "45983  1820-01-01               2.101                          3.217  Abilene   \n",
       "45984  1820-02-01               6.926                          2.853  Abilene   \n",
       "\n",
       "             Country Latitude Longitude  \n",
       "45983  United States   32.95N   100.53W  \n",
       "45984  United States   32.95N   100.53W  "
      ]
     },
     "execution_count": 19,
     "metadata": {},
     "output_type": "execute_result"
    }
   ],
   "source": [
    "print('Temperature table')\n",
    "dfs[1].head(2)"
   ]
  },
  {
   "cell_type": "code",
   "execution_count": 20,
   "metadata": {
    "editable": true
   },
   "outputs": [
    {
     "name": "stdout",
     "output_type": "stream",
     "text": [
      "Airport table\n"
     ]
    },
    {
     "data": {
      "text/html": [
       "<div>\n",
       "<style scoped>\n",
       "    .dataframe tbody tr th:only-of-type {\n",
       "        vertical-align: middle;\n",
       "    }\n",
       "\n",
       "    .dataframe tbody tr th {\n",
       "        vertical-align: top;\n",
       "    }\n",
       "\n",
       "    .dataframe thead th {\n",
       "        text-align: right;\n",
       "    }\n",
       "</style>\n",
       "<table border=\"1\" class=\"dataframe\">\n",
       "  <thead>\n",
       "    <tr style=\"text-align: right;\">\n",
       "      <th></th>\n",
       "      <th>ident</th>\n",
       "      <th>type</th>\n",
       "      <th>name</th>\n",
       "      <th>elevation_ft</th>\n",
       "      <th>continent</th>\n",
       "      <th>iso_country</th>\n",
       "      <th>iso_region</th>\n",
       "      <th>municipality</th>\n",
       "      <th>gps_code</th>\n",
       "      <th>iata_code</th>\n",
       "      <th>local_code</th>\n",
       "      <th>coordinates</th>\n",
       "    </tr>\n",
       "  </thead>\n",
       "  <tbody>\n",
       "    <tr>\n",
       "      <th>0</th>\n",
       "      <td>00A</td>\n",
       "      <td>heliport</td>\n",
       "      <td>Total Rf Heliport</td>\n",
       "      <td>11.0</td>\n",
       "      <td>NaN</td>\n",
       "      <td>US</td>\n",
       "      <td>US-PA</td>\n",
       "      <td>Bensalem</td>\n",
       "      <td>00A</td>\n",
       "      <td>NaN</td>\n",
       "      <td>00A</td>\n",
       "      <td>-74.93360137939453, 40.07080078125</td>\n",
       "    </tr>\n",
       "    <tr>\n",
       "      <th>1</th>\n",
       "      <td>00AA</td>\n",
       "      <td>small_airport</td>\n",
       "      <td>Aero B Ranch Airport</td>\n",
       "      <td>3435.0</td>\n",
       "      <td>NaN</td>\n",
       "      <td>US</td>\n",
       "      <td>US-KS</td>\n",
       "      <td>Leoti</td>\n",
       "      <td>00AA</td>\n",
       "      <td>NaN</td>\n",
       "      <td>00AA</td>\n",
       "      <td>-101.473911, 38.704022</td>\n",
       "    </tr>\n",
       "  </tbody>\n",
       "</table>\n",
       "</div>"
      ],
      "text/plain": [
       "  ident           type                  name  elevation_ft continent  \\\n",
       "0   00A       heliport     Total Rf Heliport          11.0       NaN   \n",
       "1  00AA  small_airport  Aero B Ranch Airport        3435.0       NaN   \n",
       "\n",
       "  iso_country iso_region municipality gps_code iata_code local_code  \\\n",
       "0          US      US-PA     Bensalem      00A       NaN        00A   \n",
       "1          US      US-KS        Leoti     00AA       NaN       00AA   \n",
       "\n",
       "                          coordinates  \n",
       "0  -74.93360137939453, 40.07080078125  \n",
       "1              -101.473911, 38.704022  "
      ]
     },
     "execution_count": 20,
     "metadata": {},
     "output_type": "execute_result"
    }
   ],
   "source": [
    "print('Airport table')\n",
    "dfs[2].head(2)"
   ]
  },
  {
   "cell_type": "code",
   "execution_count": 21,
   "metadata": {
    "editable": true
   },
   "outputs": [
    {
     "name": "stdout",
     "output_type": "stream",
     "text": [
      "US city demographics table\n"
     ]
    },
    {
     "data": {
      "text/html": [
       "<div>\n",
       "<style scoped>\n",
       "    .dataframe tbody tr th:only-of-type {\n",
       "        vertical-align: middle;\n",
       "    }\n",
       "\n",
       "    .dataframe tbody tr th {\n",
       "        vertical-align: top;\n",
       "    }\n",
       "\n",
       "    .dataframe thead th {\n",
       "        text-align: right;\n",
       "    }\n",
       "</style>\n",
       "<table border=\"1\" class=\"dataframe\">\n",
       "  <thead>\n",
       "    <tr style=\"text-align: right;\">\n",
       "      <th></th>\n",
       "      <th>City</th>\n",
       "      <th>State</th>\n",
       "      <th>Median Age</th>\n",
       "      <th>Male Population</th>\n",
       "      <th>Female Population</th>\n",
       "      <th>Total Population</th>\n",
       "      <th>Number of Veterans</th>\n",
       "      <th>Foreign-born</th>\n",
       "      <th>Average Household Size</th>\n",
       "      <th>State Code</th>\n",
       "      <th>Race</th>\n",
       "      <th>Count</th>\n",
       "    </tr>\n",
       "  </thead>\n",
       "  <tbody>\n",
       "    <tr>\n",
       "      <th>0</th>\n",
       "      <td>Silver Spring</td>\n",
       "      <td>Maryland</td>\n",
       "      <td>33.8</td>\n",
       "      <td>40601.0</td>\n",
       "      <td>41862.0</td>\n",
       "      <td>82463</td>\n",
       "      <td>1562.0</td>\n",
       "      <td>30908.0</td>\n",
       "      <td>2.60</td>\n",
       "      <td>MD</td>\n",
       "      <td>Hispanic or Latino</td>\n",
       "      <td>25924</td>\n",
       "    </tr>\n",
       "    <tr>\n",
       "      <th>1</th>\n",
       "      <td>Quincy</td>\n",
       "      <td>Massachusetts</td>\n",
       "      <td>41.0</td>\n",
       "      <td>44129.0</td>\n",
       "      <td>49500.0</td>\n",
       "      <td>93629</td>\n",
       "      <td>4147.0</td>\n",
       "      <td>32935.0</td>\n",
       "      <td>2.39</td>\n",
       "      <td>MA</td>\n",
       "      <td>White</td>\n",
       "      <td>58723</td>\n",
       "    </tr>\n",
       "  </tbody>\n",
       "</table>\n",
       "</div>"
      ],
      "text/plain": [
       "            City          State  Median Age  Male Population  \\\n",
       "0  Silver Spring       Maryland        33.8          40601.0   \n",
       "1         Quincy  Massachusetts        41.0          44129.0   \n",
       "\n",
       "   Female Population  Total Population  Number of Veterans  Foreign-born  \\\n",
       "0            41862.0             82463              1562.0       30908.0   \n",
       "1            49500.0             93629              4147.0       32935.0   \n",
       "\n",
       "   Average Household Size State Code                Race  Count  \n",
       "0                    2.60         MD  Hispanic or Latino  25924  \n",
       "1                    2.39         MA               White  58723  "
      ]
     },
     "execution_count": 21,
     "metadata": {},
     "output_type": "execute_result"
    }
   ],
   "source": [
    "print('US city demographics table')\n",
    "dfs[3].head(2)"
   ]
  },
  {
   "cell_type": "markdown",
   "metadata": {
    "editable": true
   },
   "source": [
    "##### Fields of interest\n",
    "\n",
    "- airdf.iso_region has a specific format. 'US-' part will be removed because all the airports of interest are located in US"
   ]
  },
  {
   "cell_type": "code",
   "execution_count": 20,
   "metadata": {
    "editable": true
   },
   "outputs": [],
   "source": [
    "international_airdf = airdf[airdf.iata_code.notnull()]"
   ]
  },
  {
   "cell_type": "code",
   "execution_count": 23,
   "metadata": {
    "editable": true
   },
   "outputs": [
    {
     "data": {
      "text/plain": [
       "array(['US-FL', 'US-AK', 'US-CO', 'US-TX', 'US-MA', 'US-CA', 'US-AZ',\n",
       "       'US-IN', 'US-WA', 'US-IL', 'US-MO', 'US-LA', 'US-NY', 'US-OK',\n",
       "       'US-NC', 'US-PA', 'US-AL', 'US-NJ', 'US-MN', 'US-DC', 'US-OR',\n",
       "       'US-KY', 'US-CT', 'US-WY', 'US-VA', 'US-NV', 'US-HI', 'US-MT',\n",
       "       'US-IA', 'US-MD', 'US-NE', 'US-MI', 'US-UT', 'US-WI', 'US-SD',\n",
       "       'US-NM', 'US-GA', 'US-NH', 'US-AR', 'US-SC', 'US-OH', 'US-KS',\n",
       "       'US-TN', 'US-ND', 'US-ME', 'US-RI', 'US-MS', 'US-WV', 'US-ID',\n",
       "       'US-VT', 'US-DE'], dtype=object)"
      ]
     },
     "execution_count": 23,
     "metadata": {},
     "output_type": "execute_result"
    }
   ],
   "source": [
    "international_airdf.iso_region.unique()"
   ]
  },
  {
   "cell_type": "markdown",
   "metadata": {
    "editable": true
   },
   "source": [
    "- Airport and Temperature table both has coordinate information. They can be normalised into a same format of float type"
   ]
  },
  {
   "cell_type": "code",
   "execution_count": 24,
   "metadata": {
    "editable": true
   },
   "outputs": [
    {
     "data": {
      "text/html": [
       "<div>\n",
       "<style scoped>\n",
       "    .dataframe tbody tr th:only-of-type {\n",
       "        vertical-align: middle;\n",
       "    }\n",
       "\n",
       "    .dataframe tbody tr th {\n",
       "        vertical-align: top;\n",
       "    }\n",
       "\n",
       "    .dataframe thead th {\n",
       "        text-align: right;\n",
       "    }\n",
       "</style>\n",
       "<table border=\"1\" class=\"dataframe\">\n",
       "  <thead>\n",
       "    <tr style=\"text-align: right;\">\n",
       "      <th></th>\n",
       "      <th>coordinates</th>\n",
       "    </tr>\n",
       "  </thead>\n",
       "  <tbody>\n",
       "    <tr>\n",
       "      <th>49583</th>\n",
       "      <td>-71.024971, 42.351583</td>\n",
       "    </tr>\n",
       "    <tr>\n",
       "      <th>49975</th>\n",
       "      <td>-71.063223, 42.349037</td>\n",
       "    </tr>\n",
       "  </tbody>\n",
       "</table>\n",
       "</div>"
      ],
      "text/plain": [
       "                 coordinates\n",
       "49583  -71.024971, 42.351583\n",
       "49975  -71.063223, 42.349037"
      ]
     },
     "execution_count": 24,
     "metadata": {},
     "output_type": "execute_result"
    }
   ],
   "source": [
    "airdf.loc[airdf.municipality == 'Boston', ['coordinates']].tail(2)"
   ]
  },
  {
   "cell_type": "code",
   "execution_count": 25,
   "metadata": {
    "editable": true
   },
   "outputs": [
    {
     "data": {
      "text/html": [
       "<div>\n",
       "<style scoped>\n",
       "    .dataframe tbody tr th:only-of-type {\n",
       "        vertical-align: middle;\n",
       "    }\n",
       "\n",
       "    .dataframe tbody tr th {\n",
       "        vertical-align: top;\n",
       "    }\n",
       "\n",
       "    .dataframe thead th {\n",
       "        text-align: right;\n",
       "    }\n",
       "</style>\n",
       "<table border=\"1\" class=\"dataframe\">\n",
       "  <thead>\n",
       "    <tr style=\"text-align: right;\">\n",
       "      <th></th>\n",
       "      <th>Latitude</th>\n",
       "      <th>Longitude</th>\n",
       "    </tr>\n",
       "  </thead>\n",
       "  <tbody>\n",
       "    <tr>\n",
       "      <th>1008156</th>\n",
       "      <td>42.59N</td>\n",
       "      <td>72.00W</td>\n",
       "    </tr>\n",
       "    <tr>\n",
       "      <th>1008157</th>\n",
       "      <td>42.59N</td>\n",
       "      <td>72.00W</td>\n",
       "    </tr>\n",
       "  </tbody>\n",
       "</table>\n",
       "</div>"
      ],
      "text/plain": [
       "        Latitude Longitude\n",
       "1008156   42.59N    72.00W\n",
       "1008157   42.59N    72.00W"
      ]
     },
     "execution_count": 25,
     "metadata": {},
     "output_type": "execute_result"
    }
   ],
   "source": [
    "tempdf.loc[tempdf.City == 'Boston', ['Latitude', 'Longitude']].head(2)"
   ]
  },
  {
   "cell_type": "markdown",
   "metadata": {
    "editable": true
   },
   "source": [
    "- Temperature table has data up to 2013 and I94 data includes only 2016 data. Therefore it requires a check if the most recent year temperature can be used as temperature in 2016\n",
    "- Based on the year-by-year temperature graph, there won't be a big change in temperatue"
   ]
  },
  {
   "cell_type": "code",
   "execution_count": 105,
   "metadata": {
    "editable": true
   },
   "outputs": [
    {
     "name": "stdout",
     "output_type": "stream",
     "text": [
      "Temperature data:  1743-11-01  -  2013-09-01\n"
     ]
    }
   ],
   "source": [
    "print('Temperature data: ', tempdf.dt.min(), ' - ', tempdf.dt.max())"
   ]
  },
  {
   "cell_type": "code",
   "execution_count": 21,
   "metadata": {
    "editable": true
   },
   "outputs": [],
   "source": [
    "city = 'Miami'\n",
    "tdf = tempdf[(tempdf.City == city) & (tempdf.dt.str.startswith('2'))].sort_values('dt').copy()"
   ]
  },
  {
   "cell_type": "code",
   "execution_count": 22,
   "metadata": {
    "editable": true
   },
   "outputs": [],
   "source": [
    "tdf['dt'] = pd.to_datetime(tdf['dt'])\n",
    "\n",
    "tdf['year'] = tdf['dt'].dt.year\n",
    "tdf['month'] = tdf['dt'].dt.month"
   ]
  },
  {
   "cell_type": "code",
   "execution_count": 28,
   "metadata": {
    "editable": true
   },
   "outputs": [
    {
     "data": {
      "image/png": "[encoded data removed]",
      "text/plain": [
       "<matplotlib.figure.Figure at 0x7fd7e425dac8>"
      ]
     },
     "metadata": {
      "needs_background": "light"
     },
     "output_type": "display_data"
    }
   ],
   "source": [
    "plt.figure(figsize=(12,4))\n",
    "for yy in tdf.year.unique():\n",
    "    xx = tdf[tdf.year == yy]\n",
    "    plt.plot(xx.month, xx.AverageTemperature, label=yy)\n",
    "plt.legend()\n",
    "plt.ylim(-5, 35)\n",
    "plt.ylabel('Temperature')\n",
    "plt.xlabel('Month');"
   ]
  },
  {
   "cell_type": "markdown",
   "metadata": {
    "editable": true
   },
   "source": [
    "### 3. Data Preparation"
   ]
  },
  {
   "cell_type": "markdown",
   "metadata": {
    "editable": true
   },
   "source": [
    "##### US airport table\n",
    "\n",
    "- Filtering\n",
    "    - iso_country = 'US'\n",
    "    - iata_code != NULL\n",
    "        - iata_code will be used as a filed to join airport and immigration tables\n",
    "    - type != 'closed'\n",
    "        - because it can be assumed that closed airport is not used by U.S. visitors/travellers\n",
    "- Transformation\n",
    "    - data type transformation (for numerical fields)\n",
    "    - Extract iso_state field value from iso_region field\n",
    "    - Seperate coordinates value into longitude and latitude\n",
    "    - Normalize municipality field value (lowercase all municipality names)\n",
    "        - municipality field can be used to link this table with other tables\n",
    "    \n",
    "##### US demographics table\n",
    "\n",
    "- Transformation\n",
    "    - data type transformation (for numerical fields)\n",
    "    - Normalize city field value (lowercase city names)\n",
    "        - city field can be used to link this table with other tables\n",
    "    - Race information field is removed\n",
    "    - Duplicate city records are removed\n",
    "    \n",
    "    \n",
    "##### US temperature table\n",
    "\n",
    "- Filtering\n",
    "    - country = 'United States'\n",
    "    - date >= '2000-01-01'\n",
    "        - It's assumed that recent years' temperature are good enough to show the temperature trend of 2016\n",
    "    - average_temperature != NULL\n",
    "        - NULL temperature data can't be used\n",
    "- Transformation\n",
    "    - data type transformation (for numerical and date fields)\n",
    "    - Normalize city field value (lowercase city names)\n",
    "        - city field can be used to link this table with other tables\n",
    "    - Normalize longitude and latitude values to be in a same format as the US airport table\n",
    "    - year, month columns are created from the date field"
   ]
  },
  {
   "cell_type": "markdown",
   "metadata": {
    "editable": true
   },
   "source": [
    "##### I94 Immigration table\n",
    "\n",
    "- Transformation\n",
    "    - data type transformation (for numerical fields)\n",
    "    - municipality field is added by join with US airport table\n",
    "    - visa_category field is changed from integer code into meaningful string value"
   ]
  },
  {
   "cell_type": "code",
   "execution_count": 108,
   "metadata": {
    "editable": true
   },
   "outputs": [],
   "source": [
    "def etl_airport_df(airdf=airdf):\n",
    "    '''\n",
    "    Apply ETL process on airport dataframe\n",
    "    \n",
    "    :param airdf: Dataframe of airpot data\n",
    "    :return a cleaned version of airport dataframe\n",
    "    '''\n",
    "    \n",
    "    # Filter US open airports\n",
    "    filt = (airdf.iso_country == 'US') & (airdf.iata_code.notnull()) & (airdf.elevation_ft.notnull()) & (airdf.type != 'closed')\n",
    "    airdf_cols = ['ident', 'type', 'name', 'elevation_ft', 'iso_region', 'municipality', 'iata_code', 'coordinates']\n",
    "    airdf_clean = airdf.loc[filt, airdf_cols]\n",
    "    \n",
    "    # Data type casting\n",
    "    airdf_clean['elevation_ft'] = airdf_clean['elevation_ft'].astype(int)\n",
    "    \n",
    "    # Field extraction / normalization\n",
    "    airdf_clean['id'] = airdf_clean['ident']\n",
    "    airdf_clean['iso_state'] = airdf_clean['iso_region'].str.split('-', expand=True)[0]\n",
    "    airdf_clean['municipality'] = airdf_clean['municipality'].str.lower()\n",
    "    airdf_coords = airdf_clean['coordinates'].str.split(',', expand=True)\n",
    "    airdf_clean['longitude'] = airdf_coords[0].astype(float)\n",
    "    airdf_clean['latitude'] = airdf_coords[1].astype(float)\n",
    "    airdf_clean = airdf_clean.drop(['ident', 'iso_region', 'coordinates'], axis=1)\n",
    "    \n",
    "    return airdf_clean"
   ]
  },
  {
   "cell_type": "code",
   "execution_count": 110,
   "metadata": {
    "editable": true
   },
   "outputs": [],
   "source": [
    "def etl_demographic_df(demdf=demdf):\n",
    "    '''\n",
    "    Apply ETL process on demographics dataframe\n",
    "    \n",
    "    :param airdf: Dataframe of demographic data\n",
    "    :return a cleaned version of demographic dataframe\n",
    "    '''\n",
    "    \n",
    "    # Column name normalization\n",
    "    dem_colnames = {\n",
    "    'City': 'city', 'State': 'state', 'State Code': 'state_code',\n",
    "    'Median Age': 'median_age', 'Male Population': 'male_population', 'Female Population': 'female_population',\n",
    "    'Total Population': 'total_population', 'Number of Veterans': 'num_veterans',\n",
    "    'Foreign-born': 'foreign_born_population', 'Average Household Size': 'average_household_size'}\n",
    "    demdf_clean = demdf.rename(columns = dem_colnames)\n",
    "    demdf_clean = demdf_clean[list(dem_colnames.values())]\n",
    "    \n",
    "    # Data type casting / normalization\n",
    "    demdf_clean = demdf_clean.fillna(0)\n",
    "    demdf_intcols = ['male_population', 'female_population', 'total_population', 'num_veterans', 'foreign_born_population']\n",
    "    demdf_floatcols = ['median_age', 'average_household_size']\n",
    "    demdf_clean[demdf_intcols] = demdf_clean[demdf_intcols].astype(int)\n",
    "    demdf_clean[demdf_floatcols] = demdf_clean[demdf_floatcols].astype(float)\n",
    "    demdf_clean['city'] = demdf_clean['city'].str.lower()\n",
    "    \n",
    "    # Drop duplicates\n",
    "    demdf_clean = demdf_clean.drop_duplicates()\n",
    "    \n",
    "    return demdf_clean"
   ]
  },
  {
   "cell_type": "code",
   "execution_count": 112,
   "metadata": {
    "editable": true
   },
   "outputs": [],
   "source": [
    "def etl_temperature_df(demdf=demdf):\n",
    "    '''\n",
    "    Apply ETL process on temperature dataframe\n",
    "    \n",
    "    :param airdf: Dataframe of temperature data\n",
    "    :return a cleaned version of temperature dataframe\n",
    "    '''\n",
    "    \n",
    "    # Filter united states temperature after 2000\n",
    "    filt = (tempdf.Country == 'United States') & (tempdf.dt >= '2000-01-01') & (tempdf.AverageTemperature.notnull())\n",
    "    \n",
    "    # Column name normalization\n",
    "    temp_colnames = {\n",
    "        'dt': 'date', 'Country': 'country', 'City': 'city', \n",
    "        'Longitude': 'longitude', 'Latitude': 'latitude',\n",
    "        'AverageTemperature': 'average_temperature', 'AverageTemperatureUncertainty': 'average_temperature_uncertainty'\n",
    "    }\n",
    "    tempdf_clean = tempdf.rename(columns=temp_colnames)\n",
    "    tempdf_clean = tempdf_clean.loc[filt, list(temp_colnames.values())]\n",
    "    \n",
    "    # Data type casting / normalization\n",
    "    tempdf_floatcols = ['average_temperature', 'average_temperature_uncertainty']\n",
    "    tempdf_clean[tempdf_floatcols] = tempdf_clean[tempdf_floatcols].astype(float)\n",
    "    tempdf_clean['date'] = pd.to_datetime(tempdf_clean['date'])\n",
    "    tempdf_clean['city'] = tempdf_clean['city'].str.lower()\n",
    "    \n",
    "    # Field extraction / normalization\n",
    "    tempdf_clean['year'] = tempdf_clean['date'].dt.year\n",
    "    tempdf_clean['month'] = tempdf_clean['date'].dt.month\n",
    "    tempdf_clean['longitude'] = tempdf_clean['longitude'].str.rstrip('W').astype(float)\n",
    "    tempdf_clean['latitude'] = tempdf_clean['latitude'].str.rstrip('N').astype(float)\n",
    "    \n",
    "    return tempdf_clean"
   ]
  },
  {
   "cell_type": "code",
   "execution_count": 113,
   "metadata": {
    "editable": true
   },
   "outputs": [],
   "source": [
    "def etl_trip_df(sasdf, airdf_clean, visa_lookup=lookup_dict):\n",
    "    '''\n",
    "    Apply ETL process on trip dataframe\n",
    "    \n",
    "    :param airdf: Dataframe of trip data\n",
    "    :return a cleaned version of trip dataframe\n",
    "    '''\n",
    "    \n",
    "    # Column name normalization\n",
    "    sasdf_colnames = {\n",
    "        'cicid': 'case_id', 'i94yr': 'case_year', 'i94mon': 'case_month',\n",
    "        'i94port': 'airport_id', 'i94visa': 'visa_category', 'visatype': 'visa_type',\n",
    "        'biryear': 'birth_year', 'i94bir': 'age', 'gender': 'gender', 'airline': 'airline_id', 'fltno': 'flight_number'\n",
    "    }\n",
    "    sasdf_clean = sasdf.rename(columns=sasdf_colnames)\n",
    "    sasdf_clean = sasdf_clean.loc[(sasdf_clean.birth_year.notnull()) & (sasdf_clean.age.notnull()), list(sasdf_colnames.values())]\n",
    "    \n",
    "    # Data type casting\n",
    "    sasdf_intcols = ['case_year', 'case_month', 'visa_category', 'birth_year', 'age']\n",
    "    sasdf_clean[sasdf_intcols] = sasdf_clean[sasdf_intcols].astype(int)\n",
    "    sasdf_clean['case_id'] = sasdf_clean['case_id'].astype('int64')\n",
    "\n",
    "    # Table join / Field creation \n",
    "    sasdf_clean['visa_category'] = sasdf_clean['visa_category'].map(visa_lookup['visa'])\n",
    "    airport_region_lookup = airdf_clean[['iata_code', 'municipality']].drop_duplicates()\n",
    "    airport_region_lookup_dict = airport_region_lookup.set_index('iata_code').to_dict()\n",
    "    sasdf_clean['municipality'] = sasdf_clean['airport_id'].map(airport_region_lookup_dict['municipality'])\n",
    "    \n",
    "    return sasdf_clean"
   ]
  },
  {
   "cell_type": "code",
   "execution_count": 114,
   "metadata": {
    "editable": true
   },
   "outputs": [],
   "source": [
    "airdf_clean = etl_airport_df()\n",
    "demdf_clean = etl_demographic_df()\n",
    "tempdf_clean = etl_temperature_df()\n",
    "sasdf_clean = etl_trip_df(sasdf, airdf_clean)"
   ]
  },
  {
   "cell_type": "markdown",
   "metadata": {
    "editable": true
   },
   "source": [
    "### 4 Data Quality Validation\n",
    "\n",
    "The following quality checks are done for the tables\n",
    "\n",
    "- Unique ID constraints\n",
    "    - Primary keys are checked if they can uniquely identify a row of the table\n",
    "    - Primary keys should not be NULL\n",
    "- Non-null constraints\n",
    "    - The following feature columns should not be NULL\n",
    "        - airport table: iata_code\n",
    "        - demographics table: state_code\n",
    "        - temperature table: average_temperature\n",
    "        - US trip table: case_year, case_month, airport_id, visa_category, visa_type\n",
    "- Data transformation check\n",
    "    - The following tables checked if it only contains US relevant records\n",
    "        - airport table\n",
    "        - temperature table\n",
    "    - temperature table's year field is checked if it's within 2010 ~ 2013"
   ]
  },
  {
   "cell_type": "code",
   "execution_count": 177,
   "metadata": {
    "editable": true
   },
   "outputs": [],
   "source": [
    "def check_airport_table(airdf_clean):\n",
    "    '''\n",
    "    Check data quality of airport table\n",
    "    \n",
    "    :param airdf_clean: airport table\n",
    "    '''\n",
    "    # Unique ID\n",
    "    assert len(airdf_clean) == len(airdf_clean['id'].drop_duplicates())\n",
    "\n",
    "    # Non-null\n",
    "    cols = ['id', 'iata_code']\n",
    "    assert airdf_clean[cols].isnull().sum().sum() == 0"
   ]
  },
  {
   "cell_type": "code",
   "execution_count": 178,
   "metadata": {
    "editable": true
   },
   "outputs": [],
   "source": [
    "def check_demographic_table(demdf_clean):\n",
    "    '''\n",
    "    Check data quality of demographic table\n",
    "    \n",
    "    :param demdf_clean: demographic table\n",
    "    '''\n",
    "    # Unique ID\n",
    "    assert len(demdf_clean) == len(demdf_clean[['state', 'city']].drop_duplicates())\n",
    "\n",
    "    # Non-null\n",
    "    cols = ['state', 'state_code', 'city']\n",
    "    assert demdf_clean[cols].isnull().sum().sum() == 0\n",
    "\n",
    "    # State code mapping\n",
    "    assert (len(demdf_clean['state_code'].drop_duplicates()) == \n",
    "        len(demdf_clean[['state', 'state_code']].drop_duplicates()))"
   ]
  },
  {
   "cell_type": "code",
   "execution_count": 179,
   "metadata": {
    "editable": true
   },
   "outputs": [],
   "source": [
    "def check_temperature_table(tempdf_clean):\n",
    "    '''\n",
    "    Check data quality of temperature table\n",
    "    \n",
    "    :param tempdf_clean: Temperature table\n",
    "    '''\n",
    "    # Unique ID\n",
    "    assert len(tempdf_clean) == len(tempdf_clean[['date', 'city', 'longitude', 'latitude']].drop_duplicates())\n",
    "\n",
    "    # Non-null\n",
    "    cols = ['date', 'country', 'city', 'longitude', 'latitude', 'average_temperature']\n",
    "    assert tempdf_clean[cols].isnull().sum().sum() == 0\n",
    "\n",
    "    # US city temperature check\n",
    "    assert len(tempdf_clean) == len(tempdf_clean[tempdf_clean['country'] == 'United States'])\n",
    "\n",
    "    # Year range\n",
    "    assert len(tempdf_clean[(tempdf_clean['year'] < 2000) | tempdf_clean['year'] > 2013]) == 0"
   ]
  },
  {
   "cell_type": "code",
   "execution_count": 180,
   "metadata": {
    "editable": true
   },
   "outputs": [],
   "source": [
    "def check_trip_table(sasdf_clean):\n",
    "    '''\n",
    "    Check data quality of trip table\n",
    "    \n",
    "    :param sasdf_clean: trip table\n",
    "    '''\n",
    "\n",
    "    # Unique ID\n",
    "    assert len(sasdf_clean) == len(sasdf_clean['case_id'].drop_duplicates())\n",
    "\n",
    "    # Non-null\n",
    "    cols = ['case_id', 'case_year', 'case_month', 'airport_id', 'visa_category', 'visa_type']\n",
    "    assert sasdf_clean[cols].isnull().sum().sum() == 0"
   ]
  },
  {
   "cell_type": "code",
   "execution_count": 182,
   "metadata": {
    "editable": true
   },
   "outputs": [],
   "source": [
    "check_airport_table(airdf_clean)\n",
    "check_demographic_table(demdf_clean)\n",
    "check_temperature_table(tempdf_clean)\n",
    "check_trip_table(sasdf_clean)"
   ]
  },
  {
   "cell_type": "markdown",
   "metadata": {
    "editable": true
   },
   "source": [
    "### 5. Analysis"
   ]
  },
  {
   "cell_type": "markdown",
   "metadata": {
    "editable": true
   },
   "source": [
    "**Popular visa categories in 2016-02**\n",
    "- The most popular visa is Pleasure/WT"
   ]
  },
  {
   "cell_type": "code",
   "execution_count": 124,
   "metadata": {
    "editable": true
   },
   "outputs": [],
   "source": [
    "visa_df = sasdf_clean.groupby(['visa_category', 'visa_type'])['case_id'].count().reset_index()\n",
    "visa_df = visa_df.rename(columns={'case_id': 'cases'});"
   ]
  },
  {
   "cell_type": "code",
   "execution_count": 125,
   "metadata": {
    "editable": true
   },
   "outputs": [
    {
     "data": {
      "text/html": [
       "<div>\n",
       "<style scoped>\n",
       "    .dataframe tbody tr th:only-of-type {\n",
       "        vertical-align: middle;\n",
       "    }\n",
       "\n",
       "    .dataframe tbody tr th {\n",
       "        vertical-align: top;\n",
       "    }\n",
       "\n",
       "    .dataframe thead th {\n",
       "        text-align: right;\n",
       "    }\n",
       "</style>\n",
       "<table border=\"1\" class=\"dataframe\">\n",
       "  <thead>\n",
       "    <tr style=\"text-align: right;\">\n",
       "      <th></th>\n",
       "      <th>visa_category</th>\n",
       "      <th>visa_type</th>\n",
       "      <th>cases</th>\n",
       "    </tr>\n",
       "  </thead>\n",
       "  <tbody>\n",
       "    <tr>\n",
       "      <th>12</th>\n",
       "      <td>Pleasure</td>\n",
       "      <td>WT</td>\n",
       "      <td>1040385</td>\n",
       "    </tr>\n",
       "    <tr>\n",
       "      <th>7</th>\n",
       "      <td>Pleasure</td>\n",
       "      <td>B2</td>\n",
       "      <td>899270</td>\n",
       "    </tr>\n",
       "    <tr>\n",
       "      <th>6</th>\n",
       "      <td>Business</td>\n",
       "      <td>WB</td>\n",
       "      <td>251002</td>\n",
       "    </tr>\n",
       "    <tr>\n",
       "      <th>0</th>\n",
       "      <td>Business</td>\n",
       "      <td>B1</td>\n",
       "      <td>172354</td>\n",
       "    </tr>\n",
       "    <tr>\n",
       "      <th>10</th>\n",
       "      <td>Pleasure</td>\n",
       "      <td>GMT</td>\n",
       "      <td>113341</td>\n",
       "    </tr>\n",
       "    <tr>\n",
       "      <th>13</th>\n",
       "      <td>Student</td>\n",
       "      <td>F1</td>\n",
       "      <td>42641</td>\n",
       "    </tr>\n",
       "    <tr>\n",
       "      <th>8</th>\n",
       "      <td>Pleasure</td>\n",
       "      <td>CP</td>\n",
       "      <td>23168</td>\n",
       "    </tr>\n",
       "    <tr>\n",
       "      <th>2</th>\n",
       "      <td>Business</td>\n",
       "      <td>E2</td>\n",
       "      <td>16627</td>\n",
       "    </tr>\n",
       "    <tr>\n",
       "      <th>1</th>\n",
       "      <td>Business</td>\n",
       "      <td>E1</td>\n",
       "      <td>3298</td>\n",
       "    </tr>\n",
       "    <tr>\n",
       "      <th>14</th>\n",
       "      <td>Student</td>\n",
       "      <td>F2</td>\n",
       "      <td>3052</td>\n",
       "    </tr>\n",
       "    <tr>\n",
       "      <th>4</th>\n",
       "      <td>Business</td>\n",
       "      <td>I</td>\n",
       "      <td>2981</td>\n",
       "    </tr>\n",
       "    <tr>\n",
       "      <th>15</th>\n",
       "      <td>Student</td>\n",
       "      <td>M1</td>\n",
       "      <td>1043</td>\n",
       "    </tr>\n",
       "    <tr>\n",
       "      <th>3</th>\n",
       "      <td>Business</td>\n",
       "      <td>GMB</td>\n",
       "      <td>209</td>\n",
       "    </tr>\n",
       "    <tr>\n",
       "      <th>5</th>\n",
       "      <td>Business</td>\n",
       "      <td>I1</td>\n",
       "      <td>192</td>\n",
       "    </tr>\n",
       "    <tr>\n",
       "      <th>9</th>\n",
       "      <td>Pleasure</td>\n",
       "      <td>CPL</td>\n",
       "      <td>40</td>\n",
       "    </tr>\n",
       "    <tr>\n",
       "      <th>16</th>\n",
       "      <td>Student</td>\n",
       "      <td>M2</td>\n",
       "      <td>37</td>\n",
       "    </tr>\n",
       "    <tr>\n",
       "      <th>11</th>\n",
       "      <td>Pleasure</td>\n",
       "      <td>SBP</td>\n",
       "      <td>2</td>\n",
       "    </tr>\n",
       "  </tbody>\n",
       "</table>\n",
       "</div>"
      ],
      "text/plain": [
       "   visa_category visa_type    cases\n",
       "12      Pleasure        WT  1040385\n",
       "7       Pleasure        B2   899270\n",
       "6       Business        WB   251002\n",
       "0       Business        B1   172354\n",
       "10      Pleasure       GMT   113341\n",
       "13       Student        F1    42641\n",
       "8       Pleasure        CP    23168\n",
       "2       Business        E2    16627\n",
       "1       Business        E1     3298\n",
       "14       Student        F2     3052\n",
       "4       Business         I     2981\n",
       "15       Student        M1     1043\n",
       "3       Business       GMB      209\n",
       "5       Business        I1      192\n",
       "9       Pleasure       CPL       40\n",
       "16       Student        M2       37\n",
       "11      Pleasure       SBP        2"
      ]
     },
     "execution_count": 125,
     "metadata": {},
     "output_type": "execute_result"
    }
   ],
   "source": [
    "visa_df.sort_values('cases', ascending=False)"
   ]
  },
  {
   "cell_type": "code",
   "execution_count": 195,
   "metadata": {
    "editable": true
   },
   "outputs": [
    {
     "data": {
      "image/png": "[encoded data removed]",
      "text/plain": [
       "<matplotlib.figure.Figure at 0x7f4997a70ac8>"
      ]
     },
     "metadata": {
      "needs_background": "light"
     },
     "output_type": "display_data"
    }
   ],
   "source": [
    "_, axes = plt.subplots(1, 2, figsize=(16, 5))\n",
    "tdf = visa_df.groupby('visa_category')['cases'].sum()\n",
    "axes[0].barh(tdf.index, tdf)\n",
    "axes[0].set_title('# admissions to U.S. for each visa category')\n",
    "axes[0].set_xlabel('# admissions')\n",
    "axes[0].set_ylabel('visa category')\n",
    "\n",
    "tdf2 = visa_df.sort_values('cases').reset_index()\n",
    "axes[1].barh(range(len(tdf2)), tdf2['cases'].tolist(), log=True)\n",
    "plt.yticks(range(len(tdf2)), tdf2['visa_type'])\n",
    "axes[1].set_title('# admissions to U.S. for each visa')\n",
    "axes[1].set_xlabel('# admissions')\n",
    "axes[1].set_ylabel('visa type');"
   ]
  },
  {
   "cell_type": "markdown",
   "metadata": {
    "editable": true
   },
   "source": [
    "**The relationship between the trip to US city and the city's temperature in 2016-02**\n",
    "- In 2016-02, city's temperature has a huge impact on the pleasure-type trip to U.S.\n",
    "- Travellers (Pleasure-type visa) usually visit cities having warm temperature"
   ]
  },
  {
   "cell_type": "code",
   "execution_count": 84,
   "metadata": {
    "editable": true
   },
   "outputs": [],
   "source": [
    "def get_trip_temperature_df(sasdf_clean, tempdf_clean):\n",
    "    '''\n",
    "    Get a joined dataframe for average temperature of each city and traveller/visitors in Feburary\n",
    "    \n",
    "    :param sasdf_clean: Trip data dataframe\n",
    "    :param tempdf_clean: Temperature data dataframe\n",
    "    :return a joined dataframe of the 2 input dataframes\n",
    "    '''\n",
    "    \n",
    "    # Calculate average temperature in Feburary\n",
    "    city_feb_temp_avg = tempdf_clean[(tempdf_clean['month'] == 2)].groupby('city')['average_temperature'].mean()\n",
    "    \n",
    "    # Calculate travellers/visitors\n",
    "    city_trips = sasdf_clean[sasdf_clean['municipality'].notnull()] \\\n",
    "        .groupby(['municipality', 'visa_category'])['case_id'].count().reset_index()\n",
    "    \n",
    "    # Join dataframes\n",
    "    final_df = city_trips.join(city_feb_temp_avg, on='municipality', how='left')\n",
    "    colnames = {'average_temperature': 'temp_avg', 'case_id': 'count'}\n",
    "    final_df = final_df.rename(columns=colnames)\n",
    "    final_df = final_df[(final_df['municipality'].notnull()) & (final_df['temp_avg'].notnull())]\n",
    "    \n",
    "    \n",
    "    return final_df"
   ]
  },
  {
   "cell_type": "code",
   "execution_count": 85,
   "metadata": {
    "editable": true
   },
   "outputs": [],
   "source": [
    "final_pdf = get_trip_temperature_df(sasdf_clean, tempdf_clean)"
   ]
  },
  {
   "cell_type": "code",
   "execution_count": 87,
   "metadata": {
    "editable": true
   },
   "outputs": [
    {
     "data": {
      "image/png": "[encoded data removed]",
      "text/plain": [
       "<matplotlib.figure.Figure at 0x7f4a1c51a940>"
      ]
     },
     "metadata": {
      "needs_background": "light"
     },
     "output_type": "display_data"
    }
   ],
   "source": [
    "_, axes = plt.subplots(2, 2, figsize=(16, 11))\n",
    "\n",
    "for visa, ax in zip(final_pdf.visa_category.unique(), axes.flatten()):\n",
    "    tdf = final_pdf[final_pdf.visa_category == visa]\n",
    "    ax.hist(tdf.temp_avg, weights=tdf['count'])\n",
    "    ax.set_title(f'# admissions to U.S. of {visa} type visa')\n",
    "    ax.set_ylabel('# admissions')\n",
    "    ax.set_xlabel('Temperature')"
   ]
  },
  {
   "cell_type": "markdown",
   "metadata": {
    "editable": true
   },
   "source": [
    "**Top 10 largest U.S. cities in population**\n",
    "- Largest city in population : New York\n",
    "- Smallest citi in population: Carmichael"
   ]
  },
  {
   "cell_type": "code",
   "execution_count": 160,
   "metadata": {
    "editable": true
   },
   "outputs": [],
   "source": [
    "demdf_clean['state_city'] = demdf_clean['state'] + '/' + demdf_clean['city']"
   ]
  },
  {
   "cell_type": "code",
   "execution_count": 169,
   "metadata": {
    "editable": true
   },
   "outputs": [
    {
     "data": {
      "text/html": [
       "<div>\n",
       "<style scoped>\n",
       "    .dataframe tbody tr th:only-of-type {\n",
       "        vertical-align: middle;\n",
       "    }\n",
       "\n",
       "    .dataframe tbody tr th {\n",
       "        vertical-align: top;\n",
       "    }\n",
       "\n",
       "    .dataframe thead th {\n",
       "        text-align: right;\n",
       "    }\n",
       "</style>\n",
       "<table border=\"1\" class=\"dataframe\">\n",
       "  <thead>\n",
       "    <tr style=\"text-align: right;\">\n",
       "      <th></th>\n",
       "      <th>state_city</th>\n",
       "      <th>total_population</th>\n",
       "    </tr>\n",
       "  </thead>\n",
       "  <tbody>\n",
       "    <tr>\n",
       "      <th>1826</th>\n",
       "      <td>New York/new york</td>\n",
       "      <td>8550405</td>\n",
       "    </tr>\n",
       "    <tr>\n",
       "      <th>40</th>\n",
       "      <td>California/los angeles</td>\n",
       "      <td>3971896</td>\n",
       "    </tr>\n",
       "    <tr>\n",
       "      <th>864</th>\n",
       "      <td>Illinois/chicago</td>\n",
       "      <td>2720556</td>\n",
       "    </tr>\n",
       "    <tr>\n",
       "      <th>254</th>\n",
       "      <td>Texas/houston</td>\n",
       "      <td>2298628</td>\n",
       "    </tr>\n",
       "    <tr>\n",
       "      <th>12</th>\n",
       "      <td>Pennsylvania/philadelphia</td>\n",
       "      <td>1567442</td>\n",
       "    </tr>\n",
       "    <tr>\n",
       "      <th>337</th>\n",
       "      <td>Arizona/phoenix</td>\n",
       "      <td>1563001</td>\n",
       "    </tr>\n",
       "    <tr>\n",
       "      <th>767</th>\n",
       "      <td>Texas/san antonio</td>\n",
       "      <td>1469824</td>\n",
       "    </tr>\n",
       "    <tr>\n",
       "      <th>236</th>\n",
       "      <td>California/san diego</td>\n",
       "      <td>1394907</td>\n",
       "    </tr>\n",
       "    <tr>\n",
       "      <th>538</th>\n",
       "      <td>Texas/dallas</td>\n",
       "      <td>1300082</td>\n",
       "    </tr>\n",
       "    <tr>\n",
       "      <th>561</th>\n",
       "      <td>California/san jose</td>\n",
       "      <td>1026919</td>\n",
       "    </tr>\n",
       "  </tbody>\n",
       "</table>\n",
       "</div>"
      ],
      "text/plain": [
       "                     state_city  total_population\n",
       "1826          New York/new york           8550405\n",
       "40       California/los angeles           3971896\n",
       "864            Illinois/chicago           2720556\n",
       "254               Texas/houston           2298628\n",
       "12    Pennsylvania/philadelphia           1567442\n",
       "337             Arizona/phoenix           1563001\n",
       "767           Texas/san antonio           1469824\n",
       "236        California/san diego           1394907\n",
       "538                Texas/dallas           1300082\n",
       "561         California/san jose           1026919"
      ]
     },
     "execution_count": 169,
     "metadata": {},
     "output_type": "execute_result"
    }
   ],
   "source": [
    "top10 = demdf_clean[['state_city', 'total_population']].sort_values('total_population', ascending=False).iloc[:10]\n",
    "top10"
   ]
  },
  {
   "cell_type": "code",
   "execution_count": 167,
   "metadata": {
    "editable": true
   },
   "outputs": [
    {
     "data": {
      "text/html": [
       "<div>\n",
       "<style scoped>\n",
       "    .dataframe tbody tr th:only-of-type {\n",
       "        vertical-align: middle;\n",
       "    }\n",
       "\n",
       "    .dataframe tbody tr th {\n",
       "        vertical-align: top;\n",
       "    }\n",
       "\n",
       "    .dataframe thead th {\n",
       "        text-align: right;\n",
       "    }\n",
       "</style>\n",
       "<table border=\"1\" class=\"dataframe\">\n",
       "  <thead>\n",
       "    <tr style=\"text-align: right;\">\n",
       "      <th></th>\n",
       "      <th>state_city</th>\n",
       "      <th>total_population</th>\n",
       "    </tr>\n",
       "  </thead>\n",
       "  <tbody>\n",
       "    <tr>\n",
       "      <th>954</th>\n",
       "      <td>Illinois/skokie</td>\n",
       "      <td>64819</td>\n",
       "    </tr>\n",
       "    <tr>\n",
       "      <th>772</th>\n",
       "      <td>Ohio/youngs</td>\n",
       "      <td>64609</td>\n",
       "    </tr>\n",
       "    <tr>\n",
       "      <th>409</th>\n",
       "      <td>New York/brentwood</td>\n",
       "      <td>63792</td>\n",
       "    </tr>\n",
       "    <tr>\n",
       "      <th>182</th>\n",
       "      <td>Ohio/lorain</td>\n",
       "      <td>63651</td>\n",
       "    </tr>\n",
       "    <tr>\n",
       "      <th>307</th>\n",
       "      <td>California/carmichael</td>\n",
       "      <td>63215</td>\n",
       "    </tr>\n",
       "  </tbody>\n",
       "</table>\n",
       "</div>"
      ],
      "text/plain": [
       "                state_city  total_population\n",
       "954        Illinois/skokie             64819\n",
       "772            Ohio/youngs             64609\n",
       "409     New York/brentwood             63792\n",
       "182            Ohio/lorain             63651\n",
       "307  California/carmichael             63215"
      ]
     },
     "execution_count": 167,
     "metadata": {},
     "output_type": "execute_result"
    }
   ],
   "source": [
    "demdf_clean[['state_city', 'total_population']].sort_values('total_population', ascending=False).tail()"
   ]
  },
  {
   "cell_type": "code",
   "execution_count": 174,
   "metadata": {
    "editable": true
   },
   "outputs": [
    {
     "data": {
      "text/plain": [
       "Text(0.5,0,'population')"
      ]
     },
     "execution_count": 174,
     "metadata": {},
     "output_type": "execute_result"
    },
    {
     "data": {
      "image/png": "[encoded data removed]",
      "text/plain": [
       "<matplotlib.figure.Figure at 0x7f4997ef1400>"
      ]
     },
     "metadata": {
      "needs_background": "light"
     },
     "output_type": "display_data"
    }
   ],
   "source": [
    "plt.figure(figsize=(16, 5))\n",
    "plt.barh(range(10)[::-1], top10.total_population)\n",
    "plt.yticks(range(10)[::-1], top10.state_city)\n",
    "plt.title('Top 10 U.S. cities having largest population')\n",
    "plt.ylabel('state/city')\n",
    "plt.xlabel('population')"
   ]
  },
  {
   "cell_type": "markdown",
   "metadata": {
    "editable": true
   },
   "source": [
    "**Does the big city match the one with a lot of visitors**"
   ]
  },
  {
   "cell_type": "code",
   "execution_count": 193,
   "metadata": {
    "editable": true
   },
   "outputs": [
    {
     "data": {
      "text/plain": [
       "municipality\n",
       "miami          384675\n",
       "new orleans    115389\n",
       "orlando        109154\n",
       "Name: count, dtype: int64"
      ]
     },
     "execution_count": 193,
     "metadata": {},
     "output_type": "execute_result"
    }
   ],
   "source": [
    "cities_df = final_pdf.groupby('municipality')['count'].sum().sort_values(ascending=False)\n",
    "cities_df.head(3)"
   ]
  },
  {
   "cell_type": "code",
   "execution_count": 194,
   "metadata": {
    "editable": true
   },
   "outputs": [
    {
     "data": {
      "text/html": [
       "<div>\n",
       "<style scoped>\n",
       "    .dataframe tbody tr th:only-of-type {\n",
       "        vertical-align: middle;\n",
       "    }\n",
       "\n",
       "    .dataframe tbody tr th {\n",
       "        vertical-align: top;\n",
       "    }\n",
       "\n",
       "    .dataframe thead th {\n",
       "        text-align: right;\n",
       "    }\n",
       "</style>\n",
       "<table border=\"1\" class=\"dataframe\">\n",
       "  <thead>\n",
       "    <tr style=\"text-align: right;\">\n",
       "      <th></th>\n",
       "      <th>municipality</th>\n",
       "      <th>temp_avg</th>\n",
       "    </tr>\n",
       "  </thead>\n",
       "  <tbody>\n",
       "    <tr>\n",
       "      <th>148</th>\n",
       "      <td>miami</td>\n",
       "      <td>19.256714</td>\n",
       "    </tr>\n",
       "    <tr>\n",
       "      <th>173</th>\n",
       "      <td>orlando</td>\n",
       "      <td>17.658643</td>\n",
       "    </tr>\n",
       "    <tr>\n",
       "      <th>159</th>\n",
       "      <td>new orleans</td>\n",
       "      <td>13.782714</td>\n",
       "    </tr>\n",
       "  </tbody>\n",
       "</table>\n",
       "</div>"
      ],
      "text/plain": [
       "    municipality   temp_avg\n",
       "148        miami  19.256714\n",
       "173      orlando  17.658643\n",
       "159  new orleans  13.782714"
      ]
     },
     "execution_count": 194,
     "metadata": {},
     "output_type": "execute_result"
    }
   ],
   "source": [
    "final_pdf[final_pdf.municipality.isin(cities_df.index[:3])][['municipality', 'temp_avg']].drop_duplicates() \\\n",
    "    .sort_values('temp_avg', ascending=False)"
   ]
  },
  {
   "cell_type": "code",
   "execution_count": null,
   "metadata": {
    "editable": true
   },
   "outputs": [],
   "source": []
  }
 ],
 "metadata": {
  "kernelspec": {
   "display_name": "Python 3",
   "language": "python",
   "name": "python3"
  },
  "language_info": {
   "codemirror_mode": {
    "name": "ipython",
    "version": 3
   },
   "file_extension": ".py",
   "mimetype": "text/x-python",
   "name": "python",
   "nbconvert_exporter": "python",
   "pygments_lexer": "ipython3",
   "version": "3.6.3"
  }
 },
 "nbformat": 4,
 "nbformat_minor": 4
}
